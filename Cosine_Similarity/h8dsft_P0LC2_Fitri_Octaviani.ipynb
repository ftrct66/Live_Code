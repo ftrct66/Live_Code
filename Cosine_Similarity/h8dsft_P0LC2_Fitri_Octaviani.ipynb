{
  "nbformat": 4,
  "nbformat_minor": 0,
  "metadata": {
    "colab": {
      "provenance": []
    },
    "kernelspec": {
      "name": "python3",
      "display_name": "Python 3"
    },
    "language_info": {
      "name": "python"
    }
  },
  "cells": [
    {
      "cell_type": "markdown",
      "source": [
        "# **LIVE CODE 2**"
      ],
      "metadata": {
        "id": "aCJv-rlNdQV-"
      }
    },
    {
      "cell_type": "markdown",
      "source": [
        "# INTRODUCTION\n",
        "\n",
        "Nama  : Fitri Octaviani\n",
        "\n",
        "Batch : HCK-006"
      ],
      "metadata": {
        "id": "UPDAll30dU9u"
      }
    },
    {
      "cell_type": "markdown",
      "source": [
        "# **Problem 1**"
      ],
      "metadata": {
        "id": "y8kj-y_Wd5Xe"
      }
    },
    {
      "cell_type": "markdown",
      "source": [
        "## Import Library"
      ],
      "metadata": {
        "id": "JQwFIQnWdshO"
      }
    },
    {
      "cell_type": "code",
      "source": [
        "import numpy as np\n",
        "import pandas as pd"
      ],
      "metadata": {
        "id": "FshB3GfOdbgH"
      },
      "execution_count": 1,
      "outputs": []
    },
    {
      "cell_type": "markdown",
      "source": [
        "## Vektor Cosine Similarity"
      ],
      "metadata": {
        "id": "kyQamvVuzIhp"
      }
    },
    {
      "cell_type": "markdown",
      "source": [
        "Kalimat 1 : Julie loves me more than Linda loves me\n",
        "\n",
        "Kalimat 2 : Jane likes me more than Julie loves me"
      ],
      "metadata": {
        "id": "nm1DveMueHay"
      }
    },
    {
      "cell_type": "markdown",
      "source": [
        "Tabel yang berisikan frekuensi kaya yang muncul pada kedua kalimat\n",
        "\n",
        "![Capture111.PNG](data:image/png;base64,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)"
      ],
      "metadata": {
        "id": "4nHc5QAdzSvL"
      }
    },
    {
      "cell_type": "code",
      "source": [
        "kalimat_1 = np.array ([2, 0, 1, 1, 0, 2, 1, 1])\n",
        "kalimat_2 = np.array ([2, 1, 1, 0, 1, 1, 1, 1])\n",
        "\n",
        "dot_product = kalimat_1 @ kalimat_2\n",
        "cosine_sim = dot_product/(np.linalg.norm(kalimat_1) * np.linalg.norm(kalimat_2))\n",
        "\n",
        "print ('Dot Product: ', dot_product)\n",
        "print ('Cosine Similarity: ', cosine_sim)"
      ],
      "metadata": {
        "colab": {
          "base_uri": "https://localhost:8080/"
        },
        "id": "KZI8rAVneTbq",
        "outputId": "6ddf2481-89b1-49ee-ab41-6c9c06122d87"
      },
      "execution_count": 2,
      "outputs": [
        {
          "output_type": "stream",
          "name": "stdout",
          "text": [
            "Dot Product:  9\n",
            "Cosine Similarity:  0.8215838362577491\n"
          ]
        }
      ]
    },
    {
      "cell_type": "markdown",
      "source": [
        "### Jawaban dari pertanyaan"
      ],
      "metadata": {
        "id": "pIbhCAZbzuhi"
      }
    },
    {
      "cell_type": "markdown",
      "source": [
        "a.   Berdasarkan hasil perhitungan dari \n",
        "cosine similarity : kedua kalimat tersebut memiliki konteks yang serupa. Hal ini dibuktikan antara kalimat 1 dan kalimat 2 memiliki nilai cosine similarity 82,15% atau 0.8215 yang artinya mendekati 100% atau 1. Sehingga kedua vektor memiliki arah yang sangat mirip atau pola distribusi elemen yang serupa."
      ],
      "metadata": {
        "id": "VWUQ2lIcz56X"
      }
    },
    {
      "cell_type": "markdown",
      "source": [
        "b. Makna cosine similarity yang bernilai 0 dan 1\n",
        "\n",
        "  - Makna cosine similarity yang mendekati 1 itu menunjukkan bahwa kedua vektor memiliki arah yang sangat mirip atau pola distribusi elemen yang serupa.\n",
        "\n",
        "  - Makna cosine similarity yang mendekati -1 itu menunjukkan bahwa kedua vektor memiliki arah yang sangat berlawanan atau pola distribusi elemen yang berbeda.\n",
        "\n",
        "  - Makna cosine similarity yang mendekati 0 itu menunjukkan bahwa kedua vektor memiliki arah yang sangat tegak lurus atau tidak ada hubungan pola distribusi elemen.\n",
        "\n"
      ],
      "metadata": {
        "id": "a0SCtHbi08a1"
      }
    },
    {
      "cell_type": "markdown",
      "source": [
        "c. Cosine similarity melibatkan vektor dikarenakan membandingkan kasus kesamaan dua item."
      ],
      "metadata": {
        "id": "eGahksjr2HIF"
      }
    },
    {
      "cell_type": "markdown",
      "source": [
        "# **Problem 2**"
      ],
      "metadata": {
        "id": "FRizhw3JgRBE"
      }
    },
    {
      "cell_type": "markdown",
      "source": [
        "## **SQL QUERY**\n",
        "\n",
        "\n",
        "```\n",
        "SELECT sale_dollars FROM `bigquery-public-data.iowa_liquor_sales.sales` LIMIT 5000\n",
        "```\n",
        "\n"
      ],
      "metadata": {
        "id": "eQFGfOzmhj7B"
      }
    },
    {
      "cell_type": "markdown",
      "source": [
        "## Import Library"
      ],
      "metadata": {
        "id": "xC-IPTImh9Vh"
      }
    },
    {
      "cell_type": "code",
      "source": [
        "import pandas as pd\n",
        "import numpy as np"
      ],
      "metadata": {
        "id": "vZ8WwcT9gVqx"
      },
      "execution_count": 3,
      "outputs": []
    },
    {
      "cell_type": "markdown",
      "source": [
        "## Data Loading"
      ],
      "metadata": {
        "id": "1pj0SnUd2j9e"
      }
    },
    {
      "cell_type": "code",
      "source": [
        "df = pd.read_csv ('/content/sample_data/h8dsft_P0LC3_Fitri Octaviani.csv')\n",
        "df"
      ],
      "metadata": {
        "colab": {
          "base_uri": "https://localhost:8080/",
          "height": 424
        },
        "id": "Gh2mHRXHh_sy",
        "outputId": "08e0ccd4-f35e-43a6-af11-68c0a88e38cc"
      },
      "execution_count": 4,
      "outputs": [
        {
          "output_type": "execute_result",
          "data": {
            "text/plain": [
              "      sale_dollars\n",
              "0             7.40\n",
              "1             8.45\n",
              "2             7.40\n",
              "3             7.40\n",
              "4           378.00\n",
              "...            ...\n",
              "4995         99.12\n",
              "4996         99.12\n",
              "4997         99.24\n",
              "4998         99.12\n",
              "4999         99.24\n",
              "\n",
              "[5000 rows x 1 columns]"
            ],
            "text/html": [
              "\n",
              "  <div id=\"df-4adb68ce-0ccb-4d3d-af01-60a756a30335\">\n",
              "    <div class=\"colab-df-container\">\n",
              "      <div>\n",
              "<style scoped>\n",
              "    .dataframe tbody tr th:only-of-type {\n",
              "        vertical-align: middle;\n",
              "    }\n",
              "\n",
              "    .dataframe tbody tr th {\n",
              "        vertical-align: top;\n",
              "    }\n",
              "\n",
              "    .dataframe thead th {\n",
              "        text-align: right;\n",
              "    }\n",
              "</style>\n",
              "<table border=\"1\" class=\"dataframe\">\n",
              "  <thead>\n",
              "    <tr style=\"text-align: right;\">\n",
              "      <th></th>\n",
              "      <th>sale_dollars</th>\n",
              "    </tr>\n",
              "  </thead>\n",
              "  <tbody>\n",
              "    <tr>\n",
              "      <th>0</th>\n",
              "      <td>7.40</td>\n",
              "    </tr>\n",
              "    <tr>\n",
              "      <th>1</th>\n",
              "      <td>8.45</td>\n",
              "    </tr>\n",
              "    <tr>\n",
              "      <th>2</th>\n",
              "      <td>7.40</td>\n",
              "    </tr>\n",
              "    <tr>\n",
              "      <th>3</th>\n",
              "      <td>7.40</td>\n",
              "    </tr>\n",
              "    <tr>\n",
              "      <th>4</th>\n",
              "      <td>378.00</td>\n",
              "    </tr>\n",
              "    <tr>\n",
              "      <th>...</th>\n",
              "      <td>...</td>\n",
              "    </tr>\n",
              "    <tr>\n",
              "      <th>4995</th>\n",
              "      <td>99.12</td>\n",
              "    </tr>\n",
              "    <tr>\n",
              "      <th>4996</th>\n",
              "      <td>99.12</td>\n",
              "    </tr>\n",
              "    <tr>\n",
              "      <th>4997</th>\n",
              "      <td>99.24</td>\n",
              "    </tr>\n",
              "    <tr>\n",
              "      <th>4998</th>\n",
              "      <td>99.12</td>\n",
              "    </tr>\n",
              "    <tr>\n",
              "      <th>4999</th>\n",
              "      <td>99.24</td>\n",
              "    </tr>\n",
              "  </tbody>\n",
              "</table>\n",
              "<p>5000 rows × 1 columns</p>\n",
              "</div>\n",
              "      <button class=\"colab-df-convert\" onclick=\"convertToInteractive('df-4adb68ce-0ccb-4d3d-af01-60a756a30335')\"\n",
              "              title=\"Convert this dataframe to an interactive table.\"\n",
              "              style=\"display:none;\">\n",
              "        \n",
              "  <svg xmlns=\"http://www.w3.org/2000/svg\" height=\"24px\"viewBox=\"0 0 24 24\"\n",
              "       width=\"24px\">\n",
              "    <path d=\"M0 0h24v24H0V0z\" fill=\"none\"/>\n",
              "    <path d=\"M18.56 5.44l.94 2.06.94-2.06 2.06-.94-2.06-.94-.94-2.06-.94 2.06-2.06.94zm-11 1L8.5 8.5l.94-2.06 2.06-.94-2.06-.94L8.5 2.5l-.94 2.06-2.06.94zm10 10l.94 2.06.94-2.06 2.06-.94-2.06-.94-.94-2.06-.94 2.06-2.06.94z\"/><path d=\"M17.41 7.96l-1.37-1.37c-.4-.4-.92-.59-1.43-.59-.52 0-1.04.2-1.43.59L10.3 9.45l-7.72 7.72c-.78.78-.78 2.05 0 2.83L4 21.41c.39.39.9.59 1.41.59.51 0 1.02-.2 1.41-.59l7.78-7.78 2.81-2.81c.8-.78.8-2.07 0-2.86zM5.41 20L4 18.59l7.72-7.72 1.47 1.35L5.41 20z\"/>\n",
              "  </svg>\n",
              "      </button>\n",
              "      \n",
              "  <style>\n",
              "    .colab-df-container {\n",
              "      display:flex;\n",
              "      flex-wrap:wrap;\n",
              "      gap: 12px;\n",
              "    }\n",
              "\n",
              "    .colab-df-convert {\n",
              "      background-color: #E8F0FE;\n",
              "      border: none;\n",
              "      border-radius: 50%;\n",
              "      cursor: pointer;\n",
              "      display: none;\n",
              "      fill: #1967D2;\n",
              "      height: 32px;\n",
              "      padding: 0 0 0 0;\n",
              "      width: 32px;\n",
              "    }\n",
              "\n",
              "    .colab-df-convert:hover {\n",
              "      background-color: #E2EBFA;\n",
              "      box-shadow: 0px 1px 2px rgba(60, 64, 67, 0.3), 0px 1px 3px 1px rgba(60, 64, 67, 0.15);\n",
              "      fill: #174EA6;\n",
              "    }\n",
              "\n",
              "    [theme=dark] .colab-df-convert {\n",
              "      background-color: #3B4455;\n",
              "      fill: #D2E3FC;\n",
              "    }\n",
              "\n",
              "    [theme=dark] .colab-df-convert:hover {\n",
              "      background-color: #434B5C;\n",
              "      box-shadow: 0px 1px 3px 1px rgba(0, 0, 0, 0.15);\n",
              "      filter: drop-shadow(0px 1px 2px rgba(0, 0, 0, 0.3));\n",
              "      fill: #FFFFFF;\n",
              "    }\n",
              "  </style>\n",
              "\n",
              "      <script>\n",
              "        const buttonEl =\n",
              "          document.querySelector('#df-4adb68ce-0ccb-4d3d-af01-60a756a30335 button.colab-df-convert');\n",
              "        buttonEl.style.display =\n",
              "          google.colab.kernel.accessAllowed ? 'block' : 'none';\n",
              "\n",
              "        async function convertToInteractive(key) {\n",
              "          const element = document.querySelector('#df-4adb68ce-0ccb-4d3d-af01-60a756a30335');\n",
              "          const dataTable =\n",
              "            await google.colab.kernel.invokeFunction('convertToInteractive',\n",
              "                                                     [key], {});\n",
              "          if (!dataTable) return;\n",
              "\n",
              "          const docLinkHtml = 'Like what you see? Visit the ' +\n",
              "            '<a target=\"_blank\" href=https://colab.research.google.com/notebooks/data_table.ipynb>data table notebook</a>'\n",
              "            + ' to learn more about interactive tables.';\n",
              "          element.innerHTML = '';\n",
              "          dataTable['output_type'] = 'display_data';\n",
              "          await google.colab.output.renderOutput(dataTable, element);\n",
              "          const docLink = document.createElement('div');\n",
              "          docLink.innerHTML = docLinkHtml;\n",
              "          element.appendChild(docLink);\n",
              "        }\n",
              "      </script>\n",
              "    </div>\n",
              "  </div>\n",
              "  "
            ]
          },
          "metadata": {},
          "execution_count": 4
        }
      ]
    },
    {
      "cell_type": "code",
      "source": [
        "# menampilkan sejumlah baris pertama dari atas dataset\n",
        "df.head()"
      ],
      "metadata": {
        "colab": {
          "base_uri": "https://localhost:8080/",
          "height": 206
        },
        "id": "F4444lWziK4-",
        "outputId": "2315c01f-9131-4d64-ac63-ed709397d9b1"
      },
      "execution_count": 5,
      "outputs": [
        {
          "output_type": "execute_result",
          "data": {
            "text/plain": [
              "   sale_dollars\n",
              "0          7.40\n",
              "1          8.45\n",
              "2          7.40\n",
              "3          7.40\n",
              "4        378.00"
            ],
            "text/html": [
              "\n",
              "  <div id=\"df-8119a31e-940a-45ec-a0f8-1c3efc445096\">\n",
              "    <div class=\"colab-df-container\">\n",
              "      <div>\n",
              "<style scoped>\n",
              "    .dataframe tbody tr th:only-of-type {\n",
              "        vertical-align: middle;\n",
              "    }\n",
              "\n",
              "    .dataframe tbody tr th {\n",
              "        vertical-align: top;\n",
              "    }\n",
              "\n",
              "    .dataframe thead th {\n",
              "        text-align: right;\n",
              "    }\n",
              "</style>\n",
              "<table border=\"1\" class=\"dataframe\">\n",
              "  <thead>\n",
              "    <tr style=\"text-align: right;\">\n",
              "      <th></th>\n",
              "      <th>sale_dollars</th>\n",
              "    </tr>\n",
              "  </thead>\n",
              "  <tbody>\n",
              "    <tr>\n",
              "      <th>0</th>\n",
              "      <td>7.40</td>\n",
              "    </tr>\n",
              "    <tr>\n",
              "      <th>1</th>\n",
              "      <td>8.45</td>\n",
              "    </tr>\n",
              "    <tr>\n",
              "      <th>2</th>\n",
              "      <td>7.40</td>\n",
              "    </tr>\n",
              "    <tr>\n",
              "      <th>3</th>\n",
              "      <td>7.40</td>\n",
              "    </tr>\n",
              "    <tr>\n",
              "      <th>4</th>\n",
              "      <td>378.00</td>\n",
              "    </tr>\n",
              "  </tbody>\n",
              "</table>\n",
              "</div>\n",
              "      <button class=\"colab-df-convert\" onclick=\"convertToInteractive('df-8119a31e-940a-45ec-a0f8-1c3efc445096')\"\n",
              "              title=\"Convert this dataframe to an interactive table.\"\n",
              "              style=\"display:none;\">\n",
              "        \n",
              "  <svg xmlns=\"http://www.w3.org/2000/svg\" height=\"24px\"viewBox=\"0 0 24 24\"\n",
              "       width=\"24px\">\n",
              "    <path d=\"M0 0h24v24H0V0z\" fill=\"none\"/>\n",
              "    <path d=\"M18.56 5.44l.94 2.06.94-2.06 2.06-.94-2.06-.94-.94-2.06-.94 2.06-2.06.94zm-11 1L8.5 8.5l.94-2.06 2.06-.94-2.06-.94L8.5 2.5l-.94 2.06-2.06.94zm10 10l.94 2.06.94-2.06 2.06-.94-2.06-.94-.94-2.06-.94 2.06-2.06.94z\"/><path d=\"M17.41 7.96l-1.37-1.37c-.4-.4-.92-.59-1.43-.59-.52 0-1.04.2-1.43.59L10.3 9.45l-7.72 7.72c-.78.78-.78 2.05 0 2.83L4 21.41c.39.39.9.59 1.41.59.51 0 1.02-.2 1.41-.59l7.78-7.78 2.81-2.81c.8-.78.8-2.07 0-2.86zM5.41 20L4 18.59l7.72-7.72 1.47 1.35L5.41 20z\"/>\n",
              "  </svg>\n",
              "      </button>\n",
              "      \n",
              "  <style>\n",
              "    .colab-df-container {\n",
              "      display:flex;\n",
              "      flex-wrap:wrap;\n",
              "      gap: 12px;\n",
              "    }\n",
              "\n",
              "    .colab-df-convert {\n",
              "      background-color: #E8F0FE;\n",
              "      border: none;\n",
              "      border-radius: 50%;\n",
              "      cursor: pointer;\n",
              "      display: none;\n",
              "      fill: #1967D2;\n",
              "      height: 32px;\n",
              "      padding: 0 0 0 0;\n",
              "      width: 32px;\n",
              "    }\n",
              "\n",
              "    .colab-df-convert:hover {\n",
              "      background-color: #E2EBFA;\n",
              "      box-shadow: 0px 1px 2px rgba(60, 64, 67, 0.3), 0px 1px 3px 1px rgba(60, 64, 67, 0.15);\n",
              "      fill: #174EA6;\n",
              "    }\n",
              "\n",
              "    [theme=dark] .colab-df-convert {\n",
              "      background-color: #3B4455;\n",
              "      fill: #D2E3FC;\n",
              "    }\n",
              "\n",
              "    [theme=dark] .colab-df-convert:hover {\n",
              "      background-color: #434B5C;\n",
              "      box-shadow: 0px 1px 3px 1px rgba(0, 0, 0, 0.15);\n",
              "      filter: drop-shadow(0px 1px 2px rgba(0, 0, 0, 0.3));\n",
              "      fill: #FFFFFF;\n",
              "    }\n",
              "  </style>\n",
              "\n",
              "      <script>\n",
              "        const buttonEl =\n",
              "          document.querySelector('#df-8119a31e-940a-45ec-a0f8-1c3efc445096 button.colab-df-convert');\n",
              "        buttonEl.style.display =\n",
              "          google.colab.kernel.accessAllowed ? 'block' : 'none';\n",
              "\n",
              "        async function convertToInteractive(key) {\n",
              "          const element = document.querySelector('#df-8119a31e-940a-45ec-a0f8-1c3efc445096');\n",
              "          const dataTable =\n",
              "            await google.colab.kernel.invokeFunction('convertToInteractive',\n",
              "                                                     [key], {});\n",
              "          if (!dataTable) return;\n",
              "\n",
              "          const docLinkHtml = 'Like what you see? Visit the ' +\n",
              "            '<a target=\"_blank\" href=https://colab.research.google.com/notebooks/data_table.ipynb>data table notebook</a>'\n",
              "            + ' to learn more about interactive tables.';\n",
              "          element.innerHTML = '';\n",
              "          dataTable['output_type'] = 'display_data';\n",
              "          await google.colab.output.renderOutput(dataTable, element);\n",
              "          const docLink = document.createElement('div');\n",
              "          docLink.innerHTML = docLinkHtml;\n",
              "          element.appendChild(docLink);\n",
              "        }\n",
              "      </script>\n",
              "    </div>\n",
              "  </div>\n",
              "  "
            ]
          },
          "metadata": {},
          "execution_count": 5
        }
      ]
    },
    {
      "cell_type": "code",
      "source": [
        "# menampilkan sejumlah baris dari bawah dataset\n",
        "df.tail()"
      ],
      "metadata": {
        "colab": {
          "base_uri": "https://localhost:8080/",
          "height": 206
        },
        "id": "aXgA8YAKiTM3",
        "outputId": "d8e0fb81-86cc-42ac-8753-3e4d6508aaab"
      },
      "execution_count": 6,
      "outputs": [
        {
          "output_type": "execute_result",
          "data": {
            "text/plain": [
              "      sale_dollars\n",
              "4995         99.12\n",
              "4996         99.12\n",
              "4997         99.24\n",
              "4998         99.12\n",
              "4999         99.24"
            ],
            "text/html": [
              "\n",
              "  <div id=\"df-cffbfa36-8c78-457b-ab20-a2cfe2fd363a\">\n",
              "    <div class=\"colab-df-container\">\n",
              "      <div>\n",
              "<style scoped>\n",
              "    .dataframe tbody tr th:only-of-type {\n",
              "        vertical-align: middle;\n",
              "    }\n",
              "\n",
              "    .dataframe tbody tr th {\n",
              "        vertical-align: top;\n",
              "    }\n",
              "\n",
              "    .dataframe thead th {\n",
              "        text-align: right;\n",
              "    }\n",
              "</style>\n",
              "<table border=\"1\" class=\"dataframe\">\n",
              "  <thead>\n",
              "    <tr style=\"text-align: right;\">\n",
              "      <th></th>\n",
              "      <th>sale_dollars</th>\n",
              "    </tr>\n",
              "  </thead>\n",
              "  <tbody>\n",
              "    <tr>\n",
              "      <th>4995</th>\n",
              "      <td>99.12</td>\n",
              "    </tr>\n",
              "    <tr>\n",
              "      <th>4996</th>\n",
              "      <td>99.12</td>\n",
              "    </tr>\n",
              "    <tr>\n",
              "      <th>4997</th>\n",
              "      <td>99.24</td>\n",
              "    </tr>\n",
              "    <tr>\n",
              "      <th>4998</th>\n",
              "      <td>99.12</td>\n",
              "    </tr>\n",
              "    <tr>\n",
              "      <th>4999</th>\n",
              "      <td>99.24</td>\n",
              "    </tr>\n",
              "  </tbody>\n",
              "</table>\n",
              "</div>\n",
              "      <button class=\"colab-df-convert\" onclick=\"convertToInteractive('df-cffbfa36-8c78-457b-ab20-a2cfe2fd363a')\"\n",
              "              title=\"Convert this dataframe to an interactive table.\"\n",
              "              style=\"display:none;\">\n",
              "        \n",
              "  <svg xmlns=\"http://www.w3.org/2000/svg\" height=\"24px\"viewBox=\"0 0 24 24\"\n",
              "       width=\"24px\">\n",
              "    <path d=\"M0 0h24v24H0V0z\" fill=\"none\"/>\n",
              "    <path d=\"M18.56 5.44l.94 2.06.94-2.06 2.06-.94-2.06-.94-.94-2.06-.94 2.06-2.06.94zm-11 1L8.5 8.5l.94-2.06 2.06-.94-2.06-.94L8.5 2.5l-.94 2.06-2.06.94zm10 10l.94 2.06.94-2.06 2.06-.94-2.06-.94-.94-2.06-.94 2.06-2.06.94z\"/><path d=\"M17.41 7.96l-1.37-1.37c-.4-.4-.92-.59-1.43-.59-.52 0-1.04.2-1.43.59L10.3 9.45l-7.72 7.72c-.78.78-.78 2.05 0 2.83L4 21.41c.39.39.9.59 1.41.59.51 0 1.02-.2 1.41-.59l7.78-7.78 2.81-2.81c.8-.78.8-2.07 0-2.86zM5.41 20L4 18.59l7.72-7.72 1.47 1.35L5.41 20z\"/>\n",
              "  </svg>\n",
              "      </button>\n",
              "      \n",
              "  <style>\n",
              "    .colab-df-container {\n",
              "      display:flex;\n",
              "      flex-wrap:wrap;\n",
              "      gap: 12px;\n",
              "    }\n",
              "\n",
              "    .colab-df-convert {\n",
              "      background-color: #E8F0FE;\n",
              "      border: none;\n",
              "      border-radius: 50%;\n",
              "      cursor: pointer;\n",
              "      display: none;\n",
              "      fill: #1967D2;\n",
              "      height: 32px;\n",
              "      padding: 0 0 0 0;\n",
              "      width: 32px;\n",
              "    }\n",
              "\n",
              "    .colab-df-convert:hover {\n",
              "      background-color: #E2EBFA;\n",
              "      box-shadow: 0px 1px 2px rgba(60, 64, 67, 0.3), 0px 1px 3px 1px rgba(60, 64, 67, 0.15);\n",
              "      fill: #174EA6;\n",
              "    }\n",
              "\n",
              "    [theme=dark] .colab-df-convert {\n",
              "      background-color: #3B4455;\n",
              "      fill: #D2E3FC;\n",
              "    }\n",
              "\n",
              "    [theme=dark] .colab-df-convert:hover {\n",
              "      background-color: #434B5C;\n",
              "      box-shadow: 0px 1px 3px 1px rgba(0, 0, 0, 0.15);\n",
              "      filter: drop-shadow(0px 1px 2px rgba(0, 0, 0, 0.3));\n",
              "      fill: #FFFFFF;\n",
              "    }\n",
              "  </style>\n",
              "\n",
              "      <script>\n",
              "        const buttonEl =\n",
              "          document.querySelector('#df-cffbfa36-8c78-457b-ab20-a2cfe2fd363a button.colab-df-convert');\n",
              "        buttonEl.style.display =\n",
              "          google.colab.kernel.accessAllowed ? 'block' : 'none';\n",
              "\n",
              "        async function convertToInteractive(key) {\n",
              "          const element = document.querySelector('#df-cffbfa36-8c78-457b-ab20-a2cfe2fd363a');\n",
              "          const dataTable =\n",
              "            await google.colab.kernel.invokeFunction('convertToInteractive',\n",
              "                                                     [key], {});\n",
              "          if (!dataTable) return;\n",
              "\n",
              "          const docLinkHtml = 'Like what you see? Visit the ' +\n",
              "            '<a target=\"_blank\" href=https://colab.research.google.com/notebooks/data_table.ipynb>data table notebook</a>'\n",
              "            + ' to learn more about interactive tables.';\n",
              "          element.innerHTML = '';\n",
              "          dataTable['output_type'] = 'display_data';\n",
              "          await google.colab.output.renderOutput(dataTable, element);\n",
              "          const docLink = document.createElement('div');\n",
              "          docLink.innerHTML = docLinkHtml;\n",
              "          element.appendChild(docLink);\n",
              "        }\n",
              "      </script>\n",
              "    </div>\n",
              "  </div>\n",
              "  "
            ]
          },
          "metadata": {},
          "execution_count": 6
        }
      ]
    },
    {
      "cell_type": "markdown",
      "source": [
        "## Central Tendency"
      ],
      "metadata": {
        "id": "oDXVVY-viX0A"
      }
    },
    {
      "cell_type": "code",
      "source": [
        "# Menghitung mean\n",
        "df1 = pd.DataFrame(df)\n",
        "df1\n",
        "\n",
        "print ('nilai mean : ', df1['sale_dollars'].mean())"
      ],
      "metadata": {
        "colab": {
          "base_uri": "https://localhost:8080/"
        },
        "id": "6bhVVSWRiWxG",
        "outputId": "dd2482e8-9703-4612-f8d4-5f06b3754374"
      },
      "execution_count": 7,
      "outputs": [
        {
          "output_type": "stream",
          "name": "stdout",
          "text": [
            "nilai mean :  206.34913799999998\n"
          ]
        }
      ]
    },
    {
      "cell_type": "code",
      "source": [
        "# Menghitung median\n",
        "df1 = pd.DataFrame(df)\n",
        "df1\n",
        "\n",
        "print ('nilai median : ', df1['sale_dollars'].median())"
      ],
      "metadata": {
        "colab": {
          "base_uri": "https://localhost:8080/"
        },
        "id": "VY-hCHufkrIo",
        "outputId": "60e22b00-ac47-4b71-8185-0ce9853f4a8d"
      },
      "execution_count": 8,
      "outputs": [
        {
          "output_type": "stream",
          "name": "stdout",
          "text": [
            "nilai median :  121.56\n"
          ]
        }
      ]
    },
    {
      "cell_type": "code",
      "source": [
        "# Menghitung mode\n",
        "df1 = pd.DataFrame(df)\n",
        "df1\n",
        "\n",
        "print ('nilai mode : ', df1['sale_dollars'].mode())"
      ],
      "metadata": {
        "colab": {
          "base_uri": "https://localhost:8080/"
        },
        "id": "fLy513tvlknW",
        "outputId": "d41f76fa-9026-44f9-c2d7-0c62c8c6d405"
      },
      "execution_count": 9,
      "outputs": [
        {
          "output_type": "stream",
          "name": "stdout",
          "text": [
            "nilai mode :  0    94.2\n",
            "Name: sale_dollars, dtype: float64\n"
          ]
        }
      ]
    },
    {
      "cell_type": "markdown",
      "source": [
        "## Skewness"
      ],
      "metadata": {
        "id": "GAJSeo3sl2Qv"
      }
    },
    {
      "cell_type": "code",
      "source": [
        "import pandas as pd\n",
        "import numpy as np\n",
        "import matplotlib.pyplot as plt\n",
        "import seaborn as sns\n",
        "from scipy import stats"
      ],
      "metadata": {
        "id": "dvwavNtsmTdw"
      },
      "execution_count": 10,
      "outputs": []
    },
    {
      "cell_type": "code",
      "source": [
        "df_col = df1.columns.tolist()\n",
        "df_col"
      ],
      "metadata": {
        "colab": {
          "base_uri": "https://localhost:8080/"
        },
        "id": "juqOqCtXmqph",
        "outputId": "746cd709-404c-4fc7-eccc-8dd8728925b4"
      },
      "execution_count": 11,
      "outputs": [
        {
          "output_type": "execute_result",
          "data": {
            "text/plain": [
              "['sale_dollars']"
            ]
          },
          "metadata": {},
          "execution_count": 11
        }
      ]
    },
    {
      "cell_type": "code",
      "source": [
        "def plot_dist(df1, col):\n",
        "    fig, axes = plt.subplots(ncols = 2, figsize = (10, 5))\n",
        "    \n",
        "    # histogram\n",
        "    sns.histplot(df1[col],ax = axes[0], bins=30)\n",
        "    axes[0].set_title(f\"Histogram '{col}'\")\n",
        "    axes[0].axvline(df1[col].mean(), color = 'red', linestyle = 'dashed', label = 'mean')\n",
        "    axes[0].axvline(df1[col].median(), color = 'green', linestyle = 'dashed', label = 'median')\n",
        "    axes[0].legend()\n",
        "    \n",
        "    # boxplot\n",
        "    sns.boxplot(y=df1[col], ax =  axes[1])\n",
        "    axes[1].set_title(f\"Boxplot '{col}'\")\n",
        "    \n",
        "    plt.show()\n",
        "    \n",
        "    # skewness\n",
        "    print(df1[col].name + ' Kurtosis: ' + str(df1[col].kurt()))\n",
        "    print(df1[col].name + ' Skewness: ' + str(df1[col].skew()))\n",
        "    if -0.5 <= df1[col].skew() <= 0.5:\n",
        "        print(\"Columns '{}' normal distribution\".format(col))\n",
        "    elif df1[col].skew() > 0.5:\n",
        "        print(\"Columns '{}' right skewed\".format(col))\n",
        "    elif df1[col].skew() < -0.5:\n",
        "        print(\"Columns '{}' left skewed\".format(col))"
      ],
      "metadata": {
        "id": "8ZbxtKiVl4y0"
      },
      "execution_count": 12,
      "outputs": []
    },
    {
      "cell_type": "code",
      "source": [
        "# menampilkan histogram, boxplot, dan skewness\n",
        "plot_dist(df1, df_col[0])"
      ],
      "metadata": {
        "colab": {
          "base_uri": "https://localhost:8080/",
          "height": 539
        },
        "id": "9Ace9eYxmm0k",
        "outputId": "a82b7a1a-d1d8-4735-cdef-8a2e4f6dd677"
      },
      "execution_count": 13,
      "outputs": [
        {
          "output_type": "display_data",
          "data": {
            "text/plain": [
              "<Figure size 1000x500 with 2 Axes>"
            ],
            "image/png": "[encoded data removed]"
          },
          "metadata": {}
        },
        {
          "output_type": "stream",
          "name": "stdout",
          "text": [
            "sale_dollars Kurtosis: 879.0691455300982\n",
            "sale_dollars Skewness: 26.076658053454043\n",
            "Columns 'sale_dollars' right skewed\n"
          ]
        }
      ]
    },
    {
      "cell_type": "markdown",
      "source": [
        "Data tidak berdistribusi normal"
      ],
      "metadata": {
        "id": "AJbkQTyg3dIn"
      }
    },
    {
      "cell_type": "markdown",
      "source": [
        "## Etreme Value Analysis"
      ],
      "metadata": {
        "id": "_6Y63efFnKFM"
      }
    },
    {
      "cell_type": "code",
      "source": [
        "# menghitung quartile Q1, Q2, Q3\n",
        "quartiles = np.percentile(df['sale_dollars'], [25, 50, 75])\n",
        "quartiles"
      ],
      "metadata": {
        "colab": {
          "base_uri": "https://localhost:8080/"
        },
        "id": "71vF4mYknHmF",
        "outputId": "b45d8672-2586-4505-b827-348bd4f71795"
      },
      "execution_count": 14,
      "outputs": [
        {
          "output_type": "execute_result",
          "data": {
            "text/plain": [
              "array([ 94.08, 121.56, 270.  ])"
            ]
          },
          "metadata": {},
          "execution_count": 14
        }
      ]
    },
    {
      "cell_type": "markdown",
      "source": [
        "Q1 = 94.08\n",
        "\n",
        "Q2 = 121.56\n",
        "\n",
        "Q3 = 270"
      ],
      "metadata": {
        "id": "4gSOmMsno6bz"
      }
    },
    {
      "cell_type": "code",
      "source": [
        "# menggunakan threshold 3 karena extreme skew\n",
        "min_threshold = quartiles[0] -3 *(quartiles[1] - quartiles[0] )\n",
        "max_threshold = quartiles[2] + 3 *(quartiles[1] - quartiles[0] )\n",
        "\n",
        "print ('min threshold atau Lower : ', min_threshold)\n",
        "print ('max threshold atau Upper : ', max_threshold)"
      ],
      "metadata": {
        "colab": {
          "base_uri": "https://localhost:8080/"
        },
        "id": "0ZUOM5f9pD0M",
        "outputId": "6ad7a7e5-dbb6-4c8d-b16a-9cd9d4a77aec"
      },
      "execution_count": 15,
      "outputs": [
        {
          "output_type": "stream",
          "name": "stdout",
          "text": [
            "min threshold atau Lower :  11.639999999999986\n",
            "max threshold atau Upper :  352.44\n"
          ]
        }
      ]
    },
    {
      "cell_type": "markdown",
      "source": [
        "## Handling Outlier atau menyimpan data yang sudah dibuang data anomalinya"
      ],
      "metadata": {
        "id": "iLvlWtGWpwpW"
      }
    },
    {
      "cell_type": "markdown",
      "source": [
        "Censoring outliers"
      ],
      "metadata": {
        "id": "wT6wPETGxkDV"
      }
    },
    {
      "cell_type": "code",
      "source": [
        "outliers_max = df[(df1['sale_dollars']>= max_threshold)].index\n",
        "outliers_min = df[(df1['sale_dollars']<= min_threshold)].index"
      ],
      "metadata": {
        "id": "gsAFCfSzqmAM"
      },
      "execution_count": 16,
      "outputs": []
    },
    {
      "cell_type": "code",
      "source": [
        "df.iloc[outliers_max] = max_threshold\n",
        "df.iloc[outliers_min] = min_threshold"
      ],
      "metadata": {
        "id": "XwP-Whewq5tu"
      },
      "execution_count": 17,
      "outputs": []
    },
    {
      "cell_type": "code",
      "source": [
        "plot_dist(df, df_col[0])"
      ],
      "metadata": {
        "colab": {
          "base_uri": "https://localhost:8080/",
          "height": 539
        },
        "id": "vlbyUvhNq86W",
        "outputId": "6e347ff7-c333-4a55-ed66-e16922623a8d"
      },
      "execution_count": 18,
      "outputs": [
        {
          "output_type": "display_data",
          "data": {
            "text/plain": [
              "<Figure size 1000x500 with 2 Axes>"
            ],
            "image/png": "[encoded data removed]"
          },
          "metadata": {}
        },
        {
          "output_type": "stream",
          "name": "stdout",
          "text": [
            "sale_dollars Kurtosis: -1.169269928850308\n",
            "sale_dollars Skewness: 0.5131575891006778\n",
            "Columns 'sale_dollars' right skewed\n"
          ]
        }
      ]
    },
    {
      "cell_type": "code",
      "source": [
        "s1 = pd.DataFrame(np.random.uniform(-1,0,5000), columns=['sale_dollars'])\n",
        "s2 = pd.DataFrame(np.random.normal(3, 2.5, size=(1000, 1)),columns=['normal'])\n",
        "data = pd.concat([s1, s2], axis=1)"
      ],
      "metadata": {
        "id": "-TRiKEK3t12C"
      },
      "execution_count": 19,
      "outputs": []
    },
    {
      "cell_type": "code",
      "source": [
        "data.head()"
      ],
      "metadata": {
        "colab": {
          "base_uri": "https://localhost:8080/",
          "height": 206
        },
        "id": "PKEvFdmBuVM4",
        "outputId": "d8ce0d70-207c-4b2c-9a33-7c7b20d79382"
      },
      "execution_count": 20,
      "outputs": [
        {
          "output_type": "execute_result",
          "data": {
            "text/plain": [
              "   sale_dollars    normal\n",
              "0     -0.614686 -1.326556\n",
              "1     -0.823237  2.268631\n",
              "2     -0.380447  2.462507\n",
              "3     -0.626782  1.632369\n",
              "4     -0.517384  2.145138"
            ],
            "text/html": [
              "\n",
              "  <div id=\"df-3e971d6d-b38c-4faa-9ca0-4b8a39f28e88\">\n",
              "    <div class=\"colab-df-container\">\n",
              "      <div>\n",
              "<style scoped>\n",
              "    .dataframe tbody tr th:only-of-type {\n",
              "        vertical-align: middle;\n",
              "    }\n",
              "\n",
              "    .dataframe tbody tr th {\n",
              "        vertical-align: top;\n",
              "    }\n",
              "\n",
              "    .dataframe thead th {\n",
              "        text-align: right;\n",
              "    }\n",
              "</style>\n",
              "<table border=\"1\" class=\"dataframe\">\n",
              "  <thead>\n",
              "    <tr style=\"text-align: right;\">\n",
              "      <th></th>\n",
              "      <th>sale_dollars</th>\n",
              "      <th>normal</th>\n",
              "    </tr>\n",
              "  </thead>\n",
              "  <tbody>\n",
              "    <tr>\n",
              "      <th>0</th>\n",
              "      <td>-0.614686</td>\n",
              "      <td>-1.326556</td>\n",
              "    </tr>\n",
              "    <tr>\n",
              "      <th>1</th>\n",
              "      <td>-0.823237</td>\n",
              "      <td>2.268631</td>\n",
              "    </tr>\n",
              "    <tr>\n",
              "      <th>2</th>\n",
              "      <td>-0.380447</td>\n",
              "      <td>2.462507</td>\n",
              "    </tr>\n",
              "    <tr>\n",
              "      <th>3</th>\n",
              "      <td>-0.626782</td>\n",
              "      <td>1.632369</td>\n",
              "    </tr>\n",
              "    <tr>\n",
              "      <th>4</th>\n",
              "      <td>-0.517384</td>\n",
              "      <td>2.145138</td>\n",
              "    </tr>\n",
              "  </tbody>\n",
              "</table>\n",
              "</div>\n",
              "      <button class=\"colab-df-convert\" onclick=\"convertToInteractive('df-3e971d6d-b38c-4faa-9ca0-4b8a39f28e88')\"\n",
              "              title=\"Convert this dataframe to an interactive table.\"\n",
              "              style=\"display:none;\">\n",
              "        \n",
              "  <svg xmlns=\"http://www.w3.org/2000/svg\" height=\"24px\"viewBox=\"0 0 24 24\"\n",
              "       width=\"24px\">\n",
              "    <path d=\"M0 0h24v24H0V0z\" fill=\"none\"/>\n",
              "    <path d=\"M18.56 5.44l.94 2.06.94-2.06 2.06-.94-2.06-.94-.94-2.06-.94 2.06-2.06.94zm-11 1L8.5 8.5l.94-2.06 2.06-.94-2.06-.94L8.5 2.5l-.94 2.06-2.06.94zm10 10l.94 2.06.94-2.06 2.06-.94-2.06-.94-.94-2.06-.94 2.06-2.06.94z\"/><path d=\"M17.41 7.96l-1.37-1.37c-.4-.4-.92-.59-1.43-.59-.52 0-1.04.2-1.43.59L10.3 9.45l-7.72 7.72c-.78.78-.78 2.05 0 2.83L4 21.41c.39.39.9.59 1.41.59.51 0 1.02-.2 1.41-.59l7.78-7.78 2.81-2.81c.8-.78.8-2.07 0-2.86zM5.41 20L4 18.59l7.72-7.72 1.47 1.35L5.41 20z\"/>\n",
              "  </svg>\n",
              "      </button>\n",
              "      \n",
              "  <style>\n",
              "    .colab-df-container {\n",
              "      display:flex;\n",
              "      flex-wrap:wrap;\n",
              "      gap: 12px;\n",
              "    }\n",
              "\n",
              "    .colab-df-convert {\n",
              "      background-color: #E8F0FE;\n",
              "      border: none;\n",
              "      border-radius: 50%;\n",
              "      cursor: pointer;\n",
              "      display: none;\n",
              "      fill: #1967D2;\n",
              "      height: 32px;\n",
              "      padding: 0 0 0 0;\n",
              "      width: 32px;\n",
              "    }\n",
              "\n",
              "    .colab-df-convert:hover {\n",
              "      background-color: #E2EBFA;\n",
              "      box-shadow: 0px 1px 2px rgba(60, 64, 67, 0.3), 0px 1px 3px 1px rgba(60, 64, 67, 0.15);\n",
              "      fill: #174EA6;\n",
              "    }\n",
              "\n",
              "    [theme=dark] .colab-df-convert {\n",
              "      background-color: #3B4455;\n",
              "      fill: #D2E3FC;\n",
              "    }\n",
              "\n",
              "    [theme=dark] .colab-df-convert:hover {\n",
              "      background-color: #434B5C;\n",
              "      box-shadow: 0px 1px 3px 1px rgba(0, 0, 0, 0.15);\n",
              "      filter: drop-shadow(0px 1px 2px rgba(0, 0, 0, 0.3));\n",
              "      fill: #FFFFFF;\n",
              "    }\n",
              "  </style>\n",
              "\n",
              "      <script>\n",
              "        const buttonEl =\n",
              "          document.querySelector('#df-3e971d6d-b38c-4faa-9ca0-4b8a39f28e88 button.colab-df-convert');\n",
              "        buttonEl.style.display =\n",
              "          google.colab.kernel.accessAllowed ? 'block' : 'none';\n",
              "\n",
              "        async function convertToInteractive(key) {\n",
              "          const element = document.querySelector('#df-3e971d6d-b38c-4faa-9ca0-4b8a39f28e88');\n",
              "          const dataTable =\n",
              "            await google.colab.kernel.invokeFunction('convertToInteractive',\n",
              "                                                     [key], {});\n",
              "          if (!dataTable) return;\n",
              "\n",
              "          const docLinkHtml = 'Like what you see? Visit the ' +\n",
              "            '<a target=\"_blank\" href=https://colab.research.google.com/notebooks/data_table.ipynb>data table notebook</a>'\n",
              "            + ' to learn more about interactive tables.';\n",
              "          element.innerHTML = '';\n",
              "          dataTable['output_type'] = 'display_data';\n",
              "          await google.colab.output.renderOutput(dataTable, element);\n",
              "          const docLink = document.createElement('div');\n",
              "          docLink.innerHTML = docLinkHtml;\n",
              "          element.appendChild(docLink);\n",
              "        }\n",
              "      </script>\n",
              "    </div>\n",
              "  </div>\n",
              "  "
            ]
          },
          "metadata": {},
          "execution_count": 20
        }
      ]
    },
    {
      "cell_type": "markdown",
      "source": [
        "### Jawaban dari pertanyaan"
      ],
      "metadata": {
        "id": "SP_akdBp3ygU"
      }
    },
    {
      "cell_type": "markdown",
      "source": [
        "1. - Nilai mean  : 206.34913799999998\n",
        "- Nilai median : 121.56\n",
        "- Nilai modus : 94.2"
      ],
      "metadata": {
        "id": "P2UNz-pI36Ch"
      }
    },
    {
      "cell_type": "markdown",
      "source": [
        "2. Berdasarkan hasil pengecekan skewness, data tidak berdistribusi normal dikarenakan nilai skewness mencapai 26.076658053454043. Dalam skewness jika nilai kurang dari -1 atau lebih besar dari 1, datanya sangat miring. Dan dalam perhitungan pun columns 'sale_dollars' right skewed."
      ],
      "metadata": {
        "id": "gWPx7_Xn4Zbw"
      }
    },
    {
      "cell_type": "markdown",
      "source": [
        "3. Teknik yang digunakan dalam extreme value analysis yang digunakan adalah censoring outliers dikarenakan outliers melebihi 5% dari data."
      ],
      "metadata": {
        "id": "Hkmg-E7B5Fu_"
      }
    }
  ]
}